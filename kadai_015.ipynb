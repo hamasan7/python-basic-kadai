{
  "nbformat": 4,
  "nbformat_minor": 0,
  "metadata": {
    "colab": {
      "provenance": [],
      "authorship_tag": "ABX9TyOOLX49oEwKrWSfOq0n9+hN",
      "include_colab_link": true
    },
    "kernelspec": {
      "name": "python3",
      "display_name": "Python 3"
    },
    "language_info": {
      "name": "python"
    }
  },
  "cells": [
    {
      "cell_type": "markdown",
      "metadata": {
        "id": "view-in-github",
        "colab_type": "text"
      },
      "source": [
        "<a href=\"https://colab.research.google.com/github/hamasan7/python-basic-kadai/blob/main/kadai_015.ipynb\" target=\"_parent\"><img src=\"https://colab.research.google.com/assets/colab-badge.svg\" alt=\"Open In Colab\"/></a>"
      ]
    },
    {
      "cell_type": "code",
      "execution_count": null,
      "metadata": {
        "colab": {
          "base_uri": "https://localhost:8080/"
        },
        "id": "8F7FjZVj29hC",
        "outputId": "0a4a6f7a-bd86-45ef-dae0-34f6382ab8fc"
      },
      "outputs": [
        {
          "output_type": "stream",
          "name": "stdout",
          "text": [
            "Name:Kevin\n",
            "Age:28\n"
          ]
        }
      ],
      "source": [
        "#課題15　クラスを使いこなそう\n",
        "'''\n",
        "名前(name)と年齢(age)の属性を持つHumanクラスを作成してください。\n",
        "nameとageを標準出力(print)するメソッド(printinfo)を追加してください。\n",
        "\n",
        "Humanクラスのインスタンスは、変数に代入してプログラム内で使用してください。\n",
        "'''\n",
        "\n",
        "# クラスの定義\n",
        "class Human:\n",
        "    def __init__(self, name, age):\n",
        "        self.name = name\n",
        "        self.age = age\n",
        "    def printinfo(self):\n",
        "        print(\"Name:\" + self.name)\n",
        "        print(\"Age:\" + str(self.age))\n",
        "\n",
        "#インスタンス化\n",
        "printinfo = Human(\"Kevin\",28)\n",
        "printinfo.printinfo()\n",
        "\n",
        "\n"
      ]
    }
  ]
}