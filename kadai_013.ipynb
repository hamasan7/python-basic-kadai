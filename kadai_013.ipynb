{
  "nbformat": 4,
  "nbformat_minor": 0,
  "metadata": {
    "colab": {
      "provenance": [],
      "authorship_tag": "ABX9TyNe075zIJNNwHKlqRRUh8Nt",
      "include_colab_link": true
    },
    "kernelspec": {
      "name": "python3",
      "display_name": "Python 3"
    },
    "language_info": {
      "name": "python"
    }
  },
  "cells": [
    {
      "cell_type": "markdown",
      "metadata": {
        "id": "view-in-github",
        "colab_type": "text"
      },
      "source": [
        "<a href=\"https://colab.research.google.com/github/hamasan7/python-basic-kadai/blob/main/kadai_013.ipynb\" target=\"_parent\"><img src=\"https://colab.research.google.com/assets/colab-badge.svg\" alt=\"Open In Colab\"/></a>"
      ]
    },
    {
      "cell_type": "code",
      "execution_count": 8,
      "metadata": {
        "colab": {
          "base_uri": "https://localhost:8080/"
        },
        "id": "B6-jDWzrahEX",
        "outputId": "9b7a52ab-1f3f-4d6a-84ee-b8fc94a4b5de"
      },
      "outputs": [
        {
          "output_type": "stream",
          "name": "stdout",
          "text": [
            "商品の金額：110\n",
            "税率：10%\n",
            "この時の合計金額：121\n"
          ]
        }
      ],
      "source": [
        "'''\n",
        "商品購入時の消費税を、関数で計算するプログラムのソースコードを作成して提出してください。以下のヒントを参考にして、プログラムを作成してください。\n",
        "\n",
        "消費税を加えた計算結果を返す関数を記述する\n",
        "「結果を返す関数」なので戻り値を使用する\n",
        "第1引数に商品の金額「110」、第2引数に消費税（10%）の「10」を設定する\n",
        "\n",
        "'''\n",
        "#変数の定義\n",
        "price = 110     #税抜きの価格\n",
        "tax = 10        #税率 10%\n",
        "\n",
        "#税金込みの価格を計算する関数を作る\n",
        "def Tax_Cal (price, tax) ->int:\n",
        "  total = price + price * tax / 100\n",
        "  return total\n",
        "\n",
        "#結果の表示\n",
        "total = int(Tax_Cal(price, tax))\n",
        "print(f'商品の金額：{price}\\n税率：{tax}%\\nこの時の合計金額：{total}')\n"
      ]
    }
  ]
}