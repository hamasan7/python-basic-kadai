{
  "nbformat": 4,
  "nbformat_minor": 0,
  "metadata": {
    "colab": {
      "provenance": [],
      "authorship_tag": "ABX9TyNYoF/bG4qumddoL7ycCtbg",
      "include_colab_link": true
    },
    "kernelspec": {
      "name": "python3",
      "display_name": "Python 3"
    },
    "language_info": {
      "name": "python"
    }
  },
  "cells": [
    {
      "cell_type": "markdown",
      "metadata": {
        "id": "view-in-github",
        "colab_type": "text"
      },
      "source": [
        "<a href=\"https://colab.research.google.com/github/hamasan7/python-basic-kadai/blob/main/python_excel_kadai2.ipynb\" target=\"_parent\"><img src=\"https://colab.research.google.com/assets/colab-badge.svg\" alt=\"Open In Colab\"/></a>"
      ]
    },
    {
      "cell_type": "code",
      "execution_count": 15,
      "metadata": {
        "colab": {
          "base_uri": "https://localhost:8080/"
        },
        "id": "-ILeXQe4iybf",
        "outputId": "b7314bb5-bb17-4277-c642-890c75c783aa"
      },
      "outputs": [
        {
          "output_type": "stream",
          "name": "stdout",
          "text": [
            "           日付 社員名   売上    部門\n",
            "0  2023-05-17  山田  100  メーカー\n",
            "1  2023-05-18  佐藤  200   代理店\n",
            "2  2023-05-19  鈴木  150  メーカー\n",
            "3  2023-05-20  田中  300    商社\n",
            "4  2023-05-21  高橋  250   代理店\n",
            "200.0\n",
            "           日付 社員名   売上    部門   平均売上\n",
            "0  2023-05-17  山田  100  メーカー  200.0\n",
            "1  2023-05-18  佐藤  200   代理店  200.0\n",
            "2  2023-05-19  鈴木  150  メーカー  200.0\n",
            "3  2023-05-20  田中  300    商社  200.0\n",
            "4  2023-05-21  高橋  250   代理店  200.0\n",
            "           日付 社員名   売上    部門   平均売上 業績ランク\n",
            "0  2023-05-17  山田  100  メーカー  200.0     C\n",
            "1  2023-05-18  佐藤  200   代理店  200.0     B\n",
            "2  2023-05-19  鈴木  150  メーカー  200.0     C\n",
            "3  2023-05-20  田中  300    商社  200.0     A\n",
            "4  2023-05-21  高橋  250   代理店  200.0     A\n",
            "\n",
            "DataFrame saved to 業績.xlsx\n"
          ]
        }
      ],
      "source": [
        "'''\n",
        "課題の内容\n",
        "\n",
        "pandasを用いて、以下の要件を満たしたプログラムを記述してください。\n",
        "\n",
        "まず、元となる社員ごとの売上データは以下の通りです。\n",
        "日付\t社員名\t売上\t部門\n",
        "2023-05-17\t山田\t100\tメーカー\n",
        "2023-05-18\t佐藤\t200\t代理店\n",
        "2023-05-19\t鈴木\t150\tメーカー\n",
        "2023-05-20\t田中\t300\t商社\n",
        "2023-05-21\t高橋\t250\t代理店\n",
        "「平均売上」列を作成し、全体の売上の平均を算出します。\n",
        "\n",
        "「業績ランク」列を作成し、以下の条件分岐をして業績ランクを設定します。\n",
        "関数「performance」を定義して業績ランクの設定をしてください。\n",
        "\n",
        "業績ランク\t条件\n",
        "A\t平均売上+50以上の場合\n",
        "B\t平均売上以上の場合\n",
        "C\t平均売上未満の場合\n",
        "新規ファイル「業績.xlsx」に書き出します。\n",
        "'''\n",
        "import pandas as pd\n",
        "\n",
        "#データーの作成\n",
        "data1 = pd.DataFrame({\n",
        "    '日付':['2023-05-17', '2023-05-18', '2023-05-19', '2023-05-20', '2023-05-21'],\n",
        "    '社員名':['山田', '佐藤', '鈴木', '田中', '高橋'],\n",
        "    '売上':['100', '200', '150', '300', '250'],\n",
        "    '部門':['メーカー', '代理店', 'メーカー', '商社', '代理店'],\n",
        "})\n",
        "\n",
        "#print(data1)\n",
        "\n",
        "#数値型への変換しておく\n",
        "data1['売上'] = pd.to_numeric(data1['売上'])\n",
        "\n",
        "#平均値の計算\n",
        "average_sales = data1['売上'].mean()\n",
        "#print(average_sales)\n",
        "\n",
        "#平均値を部門と、部門の後に追加\n",
        "data1['平均売上'] = average_sales\n",
        "#print(data1)\n",
        "\n",
        "#業績ランク関数を作成\n",
        "def rank(sales):\n",
        "    if sales >= average_sales + 50:\n",
        "        return 'A'\n",
        "    elif sales >= average_sales:\n",
        "        return 'B'\n",
        "    else:\n",
        "        return 'C'\n",
        "\n",
        "#業績ランク行を追加\n",
        "data1['業績ランク'] = data1['売上'].apply(rank)\n",
        "#print(data1)\n",
        "\n",
        "#EXCELファイルへの書き込み\n",
        "output_file = '業績.xlsx'\n",
        "data1.to_excel(output_file, index=False)\n",
        "#print(f\"\\nDataFrame saved to {output_file}\")\n"
      ]
    }
  ]
}