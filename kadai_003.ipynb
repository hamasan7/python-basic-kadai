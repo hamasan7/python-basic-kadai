{
  "nbformat": 4,
  "nbformat_minor": 0,
  "metadata": {
    "colab": {
      "provenance": [],
      "history_visible": true,
      "authorship_tag": "ABX9TyMHTyz0AMw+yaoMq36Q3NmD",
      "include_colab_link": true
    },
    "kernelspec": {
      "name": "python3",
      "display_name": "Python 3"
    },
    "language_info": {
      "name": "python"
    }
  },
  "cells": [
    {
      "cell_type": "markdown",
      "metadata": {
        "id": "view-in-github",
        "colab_type": "text"
      },
      "source": [
        "<a href=\"https://colab.research.google.com/github/hamasan7/python-basic-kadai/blob/main/kadai_003.ipynb\" target=\"_parent\"><img src=\"https://colab.research.google.com/assets/colab-badge.svg\" alt=\"Open In Colab\"/></a>"
      ]
    },
    {
      "cell_type": "code",
      "execution_count": null,
      "metadata": {
        "colab": {
          "base_uri": "https://localhost:8080/",
          "height": 500
        },
        "outputId": "b9712347-9fb8-4153-dfd2-483e01818a09",
        "id": "v9makRpkWcNu"
      },
      "outputs": [
        {
          "output_type": "stream",
          "name": "stdout",
          "text": [
            "          商品   売上年  金額（千円）\n",
            "0   アロマキャンドル  2022    1710\n",
            "1   アロマキャンドル  2023     900\n",
            "2      コーヒー豆  2023     860\n",
            "3       セッケン  2022    1300\n",
            "4       セッケン  2023    1300\n",
            "5       ハチミツ  2022    1860\n",
            "6       ハチミツ  2023    1000\n",
            "7      フライパン  2023     670\n",
            "8     ワイングラス  2022     850\n",
            "9     ワイングラス  2023     850\n",
            "10        包丁  2022     940\n",
            "11        包丁  2023     940\n",
            "12        水筒  2022    1150\n",
            "13        水筒  2023    1400\n",
            "14        紅茶  2022    2000\n",
            "15        紅茶  2023    1870\n"
          ]
        },
        {
          "output_type": "error",
          "ename": "AttributeError",
          "evalue": "'NoneType' object has no attribute 'save'",
          "traceback": [
            "\u001b[0;31m---------------------------------------------------------------------------\u001b[0m",
            "\u001b[0;31mAttributeError\u001b[0m                            Traceback (most recent call last)",
            "\u001b[0;32m/tmp/ipython-input-8-191146386.py\u001b[0m in \u001b[0;36m<cell line: 0>\u001b[0;34m()\u001b[0m\n\u001b[1;32m     82\u001b[0m \u001b[0;34m\u001b[0m\u001b[0m\n\u001b[1;32m     83\u001b[0m \u001b[0;34m\u001b[0m\u001b[0m\n\u001b[0;32m---> 84\u001b[0;31m \u001b[0mworkbook\u001b[0m\u001b[0;34m.\u001b[0m\u001b[0msave\u001b[0m\u001b[0;34m(\u001b[0m\u001b[0;34m\"売上集計表.xlsx\"\u001b[0m\u001b[0;34m)\u001b[0m\u001b[0;34m\u001b[0m\u001b[0;34m\u001b[0m\u001b[0m\n\u001b[0m\u001b[1;32m     85\u001b[0m \u001b[0;34m\u001b[0m\u001b[0m\n",
            "\u001b[0;31mAttributeError\u001b[0m: 'NoneType' object has no attribute 'save'"
          ]
        }
      ],
      "source": [
        "'''\n",
        "Step1. 年間売上表の準備\n",
        "プログラムを記述する前に、「2022_年間売上表.xlsx」と「2023_年間売上表.xlsx」を作成しましょう。\n",
        "\n",
        "「こちら」からzipをダウンロードしてください。\n",
        "\n",
        "「2022_年間売上表.xlsx」と「2023_年間売上表.xlsx」が格納されています。\n",
        "\n",
        "各ファイルのデータは以下の通りです。\n",
        "\n",
        "2022_年間売上表.xlsx\n",
        "\n",
        "売上年     商品      金額（千円）\n",
        "2022    紅茶      1200\n",
        "2022    ハチミツ    1000\n",
        "2022    セッケン    1300\n",
        "2022    紅茶      800\n",
        "2022    アロマキャンドル        900\n",
        "2022    ハチミツ    300\n",
        "2022    ハチミツ    560\n",
        "2022    ワイングラス  850\n",
        "2022    アロマキャンドル        810\n",
        "2022    包丁      940\n",
        "2022    水筒      1150\n",
        "2023_年間売上表.xlsx\n",
        "\n",
        "売上年     商品      金額（千円）\n",
        "2023    紅茶      1200\n",
        "2023    ハチミツ    1000\n",
        "2023        水筒     250\n",
        "2023     コーヒー豆   860\n",
        "2023      セッケン    1300\n",
        "2023        紅茶     670\n",
        "2023  アロマキャンドル     900\n",
        "2023    ワイングラス     850\n",
        "2923        包丁     940\n",
        "2023     フライパン     670\n",
        "2023        水筒    1150\n",
        "Step2. Google Colaboratoryの準備\n",
        "Google Colaboratoryで新規ノートブック「python-excel-kadai3.ipynb」を作成します。\n",
        "次に、Step1で作成したExcelファイルをアップロードしてください。\n",
        "\n",
        "Step3. データの連結と集計\n",
        "「2022_年間売上表.xlsx」と「2023_年間売上表.xlsx」のSheet1のデータからデータフレームを作成し、データを連結してください。\n",
        "次に連結したデータを「商品」「売上年」ごとにグループ化し、合計金額に集約しましょう。\n",
        "\n",
        "Step4. 売上集計表の作成とヘッダーの書式変更\n",
        "Step3のデータを新規Excelファイル「売上集計表.xlsx」に書き込みましょう。\n",
        "最後に、「売上集計表.xlsx」のヘッダー部分（1行目）を薄いグレー（#F2F2F2）に設定して、保存してください。\n",
        "\n",
        "書き出される「売上集計表.xlsx」は以下の通りです。\n",
        "\n",
        "売上集計表\n",
        "'''\n",
        "#ライブラリの読み込み\n",
        "import pandas as pd\n",
        "import openpyxl\n",
        "from openpyxl.styles import PatternFill\n",
        "\n",
        "#ファイルの読み込み\n",
        "\n",
        "data_1 = pd.read_excel('2022_年間売上表.xlsx')\n",
        "data_2 = pd.read_excel('2023_年間売上表.xlsx')\n",
        "\n",
        "# print(f'2022年：{data_1}')\n",
        "# print(f'2023年：{data_2}')\n",
        "\n",
        "#データーを結合する\n",
        "file_list = [data_1, data_2]\n",
        "marge_data = pd.concat(file_list, ignore_index=True)\n",
        "#print(marge_data)\n",
        "#print(marge_data)\n",
        "\n",
        "#データーを、「商品別」、「年代別」に並べ替える\n",
        "result = marge_data.groupby(['商品','売上年'])['金額（千円）'].sum().reset_index()\n",
        "\n",
        "print(result)\n",
        "\n",
        "\n",
        "# データーを一旦保存する\n",
        "workbook = result.to_excel(\"売上集計表.xlsx\", index=False)\n",
        "\n",
        "\n",
        "workbook.save(\"売上集計表.xlsx\")\n",
        "\n"
      ]
    },
    {
      "cell_type": "code",
      "source": [
        "# ライブラリの読み込み\n",
        "import pandas as pd\n",
        "import openpyxl\n",
        "from openpyxl.styles import PatternFill\n",
        "\n",
        "# --- Step 1 & 2: ファイルの準備とColabへのアップロード忘れずに ---\n",
        "\n",
        "# --- Step 3: データの連結と集計 ---\n",
        "# ファイルの読み込み\n",
        "data_2022 = pd.read_excel('2022_年間売上表.xlsx')\n",
        "data_2023 = pd.read_excel('2023_年間売上表.xlsx')\n",
        "\n",
        "# データを結合する\n",
        "combined_data = pd.concat([data_2022, data_2023], ignore_index=True)\n",
        "\n",
        "# データを「商品」「売上年」ごとにグループ化し、合計金額に集約\n",
        "summary_data = combined_data.groupby(['商品', '売上年'])['金額（千円）'].sum().reset_index()\n",
        "\n",
        "print(\"--- 連結・集計結果 ---\")\n",
        "print(summary_data)\n",
        "\n",
        "# --- Step 4: 売上集計表の作成とヘッダーの書式変更 ---\n",
        "output_filename = \"売上集計表.xlsx\"\n",
        "\n",
        "# 集計データを新規Excelファイルに一時書き込み\n",
        "# to_excelで直接ファイルを保存\n",
        "summary_data.to_excel(output_filename, index=False)\n",
        "\n",
        "# openpyxlを使用して、保存したExcelファイルを読み込み、ヘッダーの書式を変更\n",
        "try:\n",
        "    workbook = openpyxl.load_workbook(output_filename)\n",
        "    sheet = workbook.active\n",
        "\n",
        "    # ヘッダー部分（1行目）を薄いグレー（#F2F2F2）に設定\n",
        "    header_fill = PatternFill(start_color=\"F2F2F2\", end_color=\"F2F2F2\", fill_type=\"solid\")\n",
        "    for cell in sheet[1]: # 1行目の全てのセルに適用\n",
        "        cell.fill = header_fill\n",
        "\n",
        "    # 変更を保存\n",
        "    workbook.save(output_filename)\n",
        "    print(f\"\\n'{output_filename}' が正常に作成され、ヘッダーの書式が設定されました。\")\n",
        "\n",
        "except Exception as e:\n",
        "    print(f\"\\nExcelファイルの処理中にエラーが発生しました: {e}\")\n"
      ],
      "metadata": {
        "id": "bfLGbofghJfx",
        "colab": {
          "base_uri": "https://localhost:8080/"
        },
        "outputId": "28841e74-543b-4f9e-d540-8dc5867989f7"
      },
      "execution_count": 9,
      "outputs": [
        {
          "output_type": "stream",
          "name": "stdout",
          "text": [
            "--- 連結・集計結果 ---\n",
            "          商品   売上年  金額（千円）\n",
            "0   アロマキャンドル  2022    1710\n",
            "1   アロマキャンドル  2023     900\n",
            "2      コーヒー豆  2023     860\n",
            "3       セッケン  2022    1300\n",
            "4       セッケン  2023    1300\n",
            "5       ハチミツ  2022    1860\n",
            "6       ハチミツ  2023    1000\n",
            "7      フライパン  2023     670\n",
            "8     ワイングラス  2022     850\n",
            "9     ワイングラス  2023     850\n",
            "10        包丁  2022     940\n",
            "11        包丁  2023     940\n",
            "12        水筒  2022    1150\n",
            "13        水筒  2023    1400\n",
            "14        紅茶  2022    2000\n",
            "15        紅茶  2023    1870\n",
            "\n",
            "'売上集計表.xlsx' が正常に作成され、ヘッダーの書式が設定されました。\n"
          ]
        }
      ]
    }
  ]
}