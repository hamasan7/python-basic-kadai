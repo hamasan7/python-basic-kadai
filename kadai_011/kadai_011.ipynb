{
  "nbformat": 4,
  "nbformat_minor": 0,
  "metadata": {
    "colab": {
      "provenance": [],
      "authorship_tag": "ABX9TyMvu/1aPqgZNHZGCsuw0SS+",
      "include_colab_link": true
    },
    "kernelspec": {
      "name": "python3",
      "display_name": "Python 3"
    },
    "language_info": {
      "name": "python"
    }
  },
  "cells": [
    {
      "cell_type": "markdown",
      "metadata": {
        "id": "view-in-github",
        "colab_type": "text"
      },
      "source": [
        "<a href=\"https://colab.research.google.com/github/hamasan7/python-basic-kadai/blob/main/kadai_011.ipynb\" target=\"_parent\"><img src=\"https://colab.research.google.com/assets/colab-badge.svg\" alt=\"Open In Colab\"/></a>"
      ]
    },
    {
      "cell_type": "code",
      "execution_count": 5,
      "metadata": {
        "colab": {
          "base_uri": "https://localhost:8080/"
        },
        "id": "TsyeeJlhclS6",
        "outputId": "acf1069b-acc8-41f7-ba30-98cf14edb44a"
      },
      "outputs": [
        {
          "output_type": "stream",
          "name": "stdout",
          "text": [
            "水\n",
            "金\n",
            "地\n",
            "火\n",
            "木\n",
            "土\n",
            "天\n",
            "海\n",
            "冥\n",
            "水\n",
            "金\n",
            "地\n",
            "火\n",
            "木\n",
            "土\n",
            "天\n",
            "海\n",
            "冥\n"
          ]
        }
      ],
      "source": [
        "'''\n",
        "課題\n",
        "\n",
        "繰り返し処理を使いこなそう\n",
        "\n",
        "リストの中身を先頭から全て取り出して、出力結果が以下のようになるプログラムを、for、while、それぞれを利用して記述して下さい。\n",
        "array = [\"水\",\"金\",\"地\",\"火\",\"木\",\"土\",\"天\",\"海\",\"冥\"]\n",
        "\n",
        "出力結果\n",
        "水\n",
        "金\n",
        "地\n",
        "火\n",
        "木\n",
        "土\n",
        "天\n",
        "海\n",
        "冥\n",
        "水\n",
        "金\n",
        "地\n",
        "火\n",
        "木\n",
        "土\n",
        "天\n",
        "海\n",
        "冥\n",
        "'''\n",
        "#配列の内容\n",
        "array = [\"水\",\"金\",\"地\",\"火\",\"木\",\"土\",\"天\",\"海\",\"冥\"]\n",
        "#変数の定義\n",
        "i = 0\n",
        "j = 0\n",
        "\n",
        "#配列から、データーの取出\n",
        "while True:\n",
        "  for i in array:\n",
        "    print(i)\n",
        "  j = j +1\n",
        "  ##print(j)\n",
        "  if j > 1 :\n",
        "    break\n",
        "\n",
        "\n",
        "\n"
      ]
    }
  ]
}
