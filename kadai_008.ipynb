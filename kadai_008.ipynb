{
  "nbformat": 4,
  "nbformat_minor": 0,
  "metadata": {
    "colab": {
      "provenance": [],
      "authorship_tag": "ABX9TyNVKBmE49bmzZfKFwl4xiDZ",
      "include_colab_link": true
    },
    "kernelspec": {
      "name": "python3",
      "display_name": "Python 3"
    },
    "language_info": {
      "name": "python"
    }
  },
  "cells": [
    {
      "cell_type": "markdown",
      "metadata": {
        "id": "view-in-github",
        "colab_type": "text"
      },
      "source": [
        "<a href=\"https://colab.research.google.com/github/hamasan7/python-basic-kadai/blob/main/kadai_008.ipynb\" target=\"_parent\"><img src=\"https://colab.research.google.com/assets/colab-badge.svg\" alt=\"Open In Colab\"/></a>"
      ]
    },
    {
      "cell_type": "code",
      "execution_count": 6,
      "metadata": {
        "colab": {
          "base_uri": "https://localhost:8080/"
        },
        "id": "TSvvlLiWLCWR",
        "outputId": "3045ed2e-4e26-4575-de84-d3e939e26a12"
      },
      "outputs": [
        {
          "output_type": "stream",
          "name": "stdout",
          "text": [
            "正の数を入力してくだされ、終了するときは”q”を押してください。2\n",
            "2\n",
            "正の数を入力してくだされ、終了するときは”q”を押してください。3\n",
            "Fizz\n",
            "正の数を入力してくだされ、終了するときは”q”を押してください。5\n",
            "Buzz\n",
            "正の数を入力してくだされ、終了するときは”q”を押してください。15\n",
            "FizzBuzz\n",
            "正の数を入力してくだされ、終了するときは”q”を押してください。p\n",
            "無効な文字です。\n",
            "正の数を入力してくだされ、終了するときは”q”を押してください。1\n",
            "1\n",
            "正の数を入力してくだされ、終了するときは”q”を押してください。q\n",
            "プログラムを終了します\n"
          ]
        }
      ],
      "source": [
        "#課題の内容\n",
        "\"\"\"\n",
        "if文を用いて、以下の条件分岐をするコードを記述してください。値はprint関数で出力してください。\n",
        "\n",
        "・変数varが、3の倍数の場合は「Fizz」を出力\n",
        "・変数varが、5の倍数の場合は「Buzz」を出力\n",
        "・変数varが、3の倍数と5の倍数の両方に該当する場合は「FizzBuzz」を出力\n",
        "・上記のどの場合にも該当しない場合は、変数varの値を出力\n",
        "\n",
        "ただし、変数varは正の整数とします。\n",
        "\"\"\"\n",
        "while True:\n",
        "  try:\n",
        "    input_latter = input(\"正の数を入力してくだされ、終了するときは”q”を押してください。\") #変数の入力確認\n",
        "    if input_latter == \"q\":   #qが押されたのを確認し、終了する\n",
        "      print(\"プログラムを終了します\")\n",
        "      break\n",
        "    var = int(input_latter)    #入力された文字を正数型に変換\n",
        "    #以下課題の条件式\n",
        "    if var <= 0:\n",
        "      print(\"正の数を入力してください。\")\n",
        "    else:\n",
        "      if var % 3 == 0 and var % 5 == 0:\n",
        "        print(\"FizzBuzz\")\n",
        "      elif var % 3 == 0:\n",
        "        print( \"Fizz\")\n",
        "      elif var % 5 == 0:\n",
        "        print(\"Buzz\")\n",
        "      else:\n",
        "        print(var)\n",
        "  except ValueError:#エラー処理\n",
        "    print(\"無効な文字です。\")\n",
        "  except KeyboardInterrupt:\n",
        "    print(\"\\n強制終了します\")\n",
        "    break"
      ]
    }
  ]
}