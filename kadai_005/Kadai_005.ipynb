{
  "nbformat": 4,
  "nbformat_minor": 0,
  "metadata": {
    "colab": {
      "provenance": []
    },
    "kernelspec": {
      "name": "python3",
      "display_name": "Python 3"
    },
    "language_info": {
      "name": "python"
    }
  },
  "cells": [
    {
      "cell_type": "code",
      "execution_count": 11,
      "metadata": {
        "colab": {
          "base_uri": "https://localhost:8080/"
        },
        "id": "046H3XklO8eC",
        "outputId": "c3dd8592-31f8-48a5-bc03-396822ce41ea"
      },
      "outputs": [
        {
          "output_type": "stream",
          "name": "stdout",
          "text": [
            "上辺:10cm\n",
            "下辺:20cm\n",
            "高さ:5cm\n",
            "上記条件の台形の面積は\n",
            "[75.0 cm²]です\n"
          ]
        }
      ],
      "source": [
        "\"\"\"\n",
        "課題の内容\n",
        "上辺：10cm\n",
        "下辺：20cm\n",
        "高さ：5cm\n",
        "\n",
        "公式：台形の面積 =（上辺＋下辺）× 高さ ÷ 2\n",
        "\"\"\"\n",
        "#変数の定義\n",
        "jyo_hen = 10\n",
        "tei_hen = 20\n",
        "takasa = 5\n",
        "daikei_menseki = 0\n",
        "\n",
        "daikei_menseki = (jyo_hen + tei_hen) * takasa / 2\n",
        "print(f'上辺:{jyo_hen}cm\\n下辺:{tei_hen}cm\\n高さ:{takasa}cm\\n上記条件の台形の面積は\\n[{str(daikei_menseki)} cm²]です')\n"
      ]
    }
  ]
}