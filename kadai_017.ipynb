{
  "nbformat": 4,
  "nbformat_minor": 0,
  "metadata": {
    "colab": {
      "provenance": [],
      "authorship_tag": "ABX9TyM3Uo+H5I2Y1W4+5vGUFFb6",
      "include_colab_link": true
    },
    "kernelspec": {
      "name": "python3",
      "display_name": "Python 3"
    },
    "language_info": {
      "name": "python"
    }
  },
  "cells": [
    {
      "cell_type": "markdown",
      "metadata": {
        "id": "view-in-github",
        "colab_type": "text"
      },
      "source": [
        "<a href=\"https://colab.research.google.com/github/hamasan7/python-basic-kadai/blob/main/kadai_017.ipynb\" target=\"_parent\"><img src=\"https://colab.research.google.com/assets/colab-badge.svg\" alt=\"Open In Colab\"/></a>"
      ]
    },
    {
      "cell_type": "markdown",
      "source": [],
      "metadata": {
        "id": "aUKnyaCm20X3"
      }
    },
    {
      "cell_type": "markdown",
      "source": [],
      "metadata": {
        "id": "RfZWEdqR20zJ"
      }
    },
    {
      "cell_type": "code",
      "source": [
        "'''\n",
        "名前(name)と年齢(age)の属性を持つHumanクラスを作成してください。\n",
        "\n",
        "Humanクラスには、以下の条件で標準出力(print)するcheck_adultメソッドを追加してください。\n",
        "\n",
        "ageが20以上の場合に大人であること\n",
        "そうでない場合に大人でないこと\n",
        "Humanクラスのインスタンスを複数生成してリストに追加し、リストの要素数分だけcheck_adultメソッドを呼び出してください。\n",
        "'''\n",
        "\n",
        "# クラスの定義\n",
        "class Human():\n",
        "   def __init__(self, name, age):\n",
        "    self.name = name\n",
        "    self.age = age\n",
        "\n",
        "   def check_adult(self):\n",
        "    if self.age >= 20:\n",
        "      print(f'{self.name}<---は大人です')\n",
        "    else:\n",
        "      print(f'{self.name}<---は大人ではありません')\n",
        "\n",
        "# Humanインスタンスを生成\n",
        "humans = [\n",
        "    Human(\"侍 一郎\", 25),\n",
        "    Human(\"侍 二郎\", 18),\n",
        "    Human(\"侍 花子\", 30),\n",
        "    Human(\"侍 えなこ\", 19)\n",
        "]\n",
        "\n",
        "# 各インスタンスのcheck_adultメソッドを呼び出す\n",
        "for human in humans:\n",
        "    human.check_adult()\n"
      ],
      "metadata": {
        "id": "Ffgqz1ci21f9",
        "colab": {
          "base_uri": "https://localhost:8080/"
        },
        "outputId": "bb30bc40-4dba-4aeb-c887-86dcf5ab1373"
      },
      "execution_count": 2,
      "outputs": [
        {
          "output_type": "stream",
          "name": "stdout",
          "text": [
            "侍 一郎<---は大人です\n",
            "侍 二郎<---は大人ではありません\n",
            "侍 花子<---は大人です\n",
            "侍 えなこ<---は大人ではありません\n"
          ]
        }
      ]
    }
  ]
}